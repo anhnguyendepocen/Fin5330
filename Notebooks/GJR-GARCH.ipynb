{
 "cells": [
  {
   "cell_type": "markdown",
   "metadata": {},
   "source": [
    "# __Brough Lecture Notes: GARCH Models - Asymmetric Models__\n",
    "\n",
    "<br>\n",
    "\n",
    "Finance 5330: Financial Econometrics <br>\n",
    "Tyler J. Brough <br>\n",
    "Last Updated: March 28, 2019 <br>\n",
    "<br>\n",
    "<br>\n",
    "\n",
    "These notes are based in part on several chapters in the series of books on [Market Risk Analysis](http://carolalexander.org/market-risk-analysis/) by Carol Alexander.\n",
    "\n",
    "<br>"
   ]
  },
  {
   "cell_type": "markdown",
   "metadata": {},
   "source": [
    "There is a mind-numbing alphabet soup of variations on GARCH models. These notes introduce you to one simple extension known as the GJR-GARCH model, named for the initials of its [inventors](https://bit.ly/2U1d8Kj).\n",
    "\n",
    "<br>\n",
    "\n",
    "Ever since [Black 1976](https://bit.ly/2CGBNck) economists have become aware of what Black called the _leverage effect_.\n",
    "This basically means that there is an _asymmetric_ response to past volatility shocks.\n",
    "\n",
    "<br>\n",
    "\n",
    "To account for this GJR add a single extra _leverage_ parameter that augments the weight of the response in the model to negative market shocks. \n",
    "\n",
    "<br>\n",
    "\n",
    "The model can be written down as: \n",
    "\n",
    "<br>\n",
    "\n",
    "$$\n",
    "\\sigma_{t}^{2} = \\omega + \\alpha \\epsilon_{t-1}^{2} + \\lambda I_{\\{\\epsilon_{t-1} < 0\\}} \\epsilon_{t-1}^{2} + \\beta \\sigma_{t-1}^{2}\n",
    "$$\n",
    "\n",
    "<br>\n",
    "\n",
    "where $I_{\\{\\epsilon_{t-1} < 0 \\}} = 1$ if $\\epsilon_{t-1} < 0$ and $0$ otherwise (called an indicator function).\n",
    "\n",
    "<br>\n",
    "\n",
    "MLE parameter estimation is based on the usual GARCH likelihood function, where $\\sigma_{t}$ depends now on $\\lambda$.\n",
    "\n",
    "<br>\n",
    "\n",
    "__NB:__ Note that if $\\lambda = 0$ then we have a simple GARCH(1,1) model, so the GJR-GARCH model is a generalization\n",
    "        of the standard GARCH model. \n",
    "        \n",
    "<br>\n",
    "\n",
    "__NB:__ Note that a general GJR-GARCH(p, o, q) model could be written down similar to a GARCH(p, q) model where the $o$\n",
    "        parameter is the number of lags in the _leverage term_. \n",
    "        \n",
    "<br>"
   ]
  },
  {
   "cell_type": "markdown",
   "metadata": {},
   "source": [
    "The GJR-GARCH model has often been found to improve the fit to data relative to a standard symmetric GARCH model. \n",
    "\n",
    "<br>\n",
    "\n",
    "The standard model specification is a GRJ-GARCH(1,1,1) model (similar to the GARCH(1,1) case). "
   ]
  },
  {
   "cell_type": "markdown",
   "metadata": {},
   "source": [
    "## Estimation via MLE"
   ]
  },
  {
   "cell_type": "code",
   "execution_count": 26,
   "metadata": {},
   "outputs": [],
   "source": [
    "import numpy as np\n",
    "import pandas as pd\n",
    "import matplotlib.pyplot as plt\n",
    "plt.rcParams['figure.figsize'] = [20, 10]\n",
    "\n",
    "import seaborn\n",
    "from numpy import size, log, exp, pi, sum, diff, array, zeros, diag, mat, asarray, sqrt, copy\n",
    "from numpy.linalg import inv\n",
    "\n",
    "from scipy.optimize import fmin_slsqp, minimize"
   ]
  },
  {
   "cell_type": "code",
   "execution_count": 27,
   "metadata": {},
   "outputs": [],
   "source": [
    "def gjr_garch_likelihood(parameters, data, sigma2, out=None):\n",
    "    '''Returns negative log-likelihood for GJR-GARCH(1,1,1) model.'''\n",
    "    mu = parameters[0]\n",
    "    omega = parameters[1]\n",
    "    alpha = parameters[2]\n",
    "    gamma = parameters[3]\n",
    "    beta = parameters[4]\n",
    "    \n",
    "    T = size(data,0)\n",
    "    eps = data - mu\n",
    "    # Data and sigma2 are T by 1 vectors\n",
    "    for t in range(1,T):\n",
    "        sigma2[t] = (omega + alpha * eps[t-1]**2 + gamma * eps[t-1]**2 * (eps[t-1]<0) + beta * sigma2[t-1])\n",
    "        \n",
    "    logliks = 0.5*(log(2*pi) + log(sigma2) + eps**2/sigma2)\n",
    "    loglik = sum(logliks)\n",
    "    \n",
    "    if out is None:\n",
    "        return loglik\n",
    "    else:\n",
    "        return loglik, logliks, copy(sigma2)"
   ]
  },
  {
   "cell_type": "code",
   "execution_count": 28,
   "metadata": {},
   "outputs": [],
   "source": [
    "def gjr_constraint(parameters, data, sigma2, out=None):\n",
    "    '''Constraint that alpha+gamma/2+beta<=1'''\n",
    "    \n",
    "    alpha = parameters[2]\n",
    "    gamma = parameters[3]\n",
    "    beta = parameters[4]\n",
    "    \n",
    "    return array([1-alpha-gamma/2-beta])"
   ]
  },
  {
   "cell_type": "code",
   "execution_count": 29,
   "metadata": {},
   "outputs": [],
   "source": [
    "def hessian_2sided(fun, theta, args):\n",
    "    f = fun(theta, *args)\n",
    "    h = 1e-5*np.abs(theta)\n",
    "    thetah = theta + h\n",
    "    h = thetah - theta\n",
    "    K = size(theta,0)\n",
    "    h = np.diag(h)\n",
    "    \n",
    "    fp = zeros(K)\n",
    "    fm = zeros(K)\n",
    "    for i in range(K):\n",
    "        fp[i] = fun(theta+h[i], *args)\n",
    "        fm[i] = fun(theta-h[i], *args)\n",
    "        \n",
    "        \n",
    "    fpp = zeros((K,K))\n",
    "    fmm = zeros((K,K))\n",
    "    for i in range(K):\n",
    "        for j in range(i,K):\n",
    "            fpp[i,j] = fun(theta + h[i] + h[j], *args)\n",
    "            fpp[j,i] = fpp[i,j]\n",
    "            fmm[i,j] = fun(theta - h[i] - h[j], *args)\n",
    "            fmm[j,i] = fmm[i,j]\n",
    "            \n",
    "    hh = (diag(h))\n",
    "    hh = hh.reshape((K,1))\n",
    "    hh = hh @ hh.T\n",
    "    \n",
    "    H = zeros((K,K))\n",
    "    \n",
    "    for i in range(K):\n",
    "        for j in range(i,K):\n",
    "            H[i,j] = (fpp[i,j] - fp[i] - fp[j] + f + f - fm[i] - fm[j] + fmm[i,j])/hh[i,j]/2\n",
    "            H[j,i] = H[i,j]\n",
    "            \n",
    "    return H"
   ]
  },
  {
   "cell_type": "code",
   "execution_count": 30,
   "metadata": {},
   "outputs": [],
   "source": [
    "ibm = pd.read_csv(\"./data/IBM-1999-2003.csv\", parse_dates=True, index_col=1)"
   ]
  },
  {
   "cell_type": "code",
   "execution_count": 31,
   "metadata": {},
   "outputs": [
    {
     "data": {
      "text/html": [
       "<div>\n",
       "<style scoped>\n",
       "    .dataframe tbody tr th:only-of-type {\n",
       "        vertical-align: middle;\n",
       "    }\n",
       "\n",
       "    .dataframe tbody tr th {\n",
       "        vertical-align: top;\n",
       "    }\n",
       "\n",
       "    .dataframe thead th {\n",
       "        text-align: right;\n",
       "    }\n",
       "</style>\n",
       "<table border=\"1\" class=\"dataframe\">\n",
       "  <thead>\n",
       "    <tr style=\"text-align: right;\">\n",
       "      <th></th>\n",
       "      <th>PERMNO</th>\n",
       "      <th>TICKER</th>\n",
       "      <th>COMNAM</th>\n",
       "      <th>PERMCO</th>\n",
       "      <th>PRC</th>\n",
       "      <th>RET</th>\n",
       "      <th>CFACPR</th>\n",
       "      <th>RETX</th>\n",
       "      <th>sprtrn</th>\n",
       "    </tr>\n",
       "    <tr>\n",
       "      <th>date</th>\n",
       "      <th></th>\n",
       "      <th></th>\n",
       "      <th></th>\n",
       "      <th></th>\n",
       "      <th></th>\n",
       "      <th></th>\n",
       "      <th></th>\n",
       "      <th></th>\n",
       "      <th></th>\n",
       "    </tr>\n",
       "  </thead>\n",
       "  <tbody>\n",
       "    <tr>\n",
       "      <th>1999-01-04</th>\n",
       "      <td>12490</td>\n",
       "      <td>IBM</td>\n",
       "      <td>INTERNATIONAL BUSINESS MACHS COR</td>\n",
       "      <td>20990</td>\n",
       "      <td>183.0000</td>\n",
       "      <td>-0.007458</td>\n",
       "      <td>2</td>\n",
       "      <td>-0.007458</td>\n",
       "      <td>-0.000919</td>\n",
       "    </tr>\n",
       "    <tr>\n",
       "      <th>1999-01-05</th>\n",
       "      <td>12490</td>\n",
       "      <td>IBM</td>\n",
       "      <td>INTERNATIONAL BUSINESS MACHS COR</td>\n",
       "      <td>20990</td>\n",
       "      <td>189.6250</td>\n",
       "      <td>0.036202</td>\n",
       "      <td>2</td>\n",
       "      <td>0.036202</td>\n",
       "      <td>0.013582</td>\n",
       "    </tr>\n",
       "    <tr>\n",
       "      <th>1999-01-06</th>\n",
       "      <td>12490</td>\n",
       "      <td>IBM</td>\n",
       "      <td>INTERNATIONAL BUSINESS MACHS COR</td>\n",
       "      <td>20990</td>\n",
       "      <td>188.7500</td>\n",
       "      <td>-0.004614</td>\n",
       "      <td>2</td>\n",
       "      <td>-0.004614</td>\n",
       "      <td>0.022140</td>\n",
       "    </tr>\n",
       "    <tr>\n",
       "      <th>1999-01-07</th>\n",
       "      <td>12490</td>\n",
       "      <td>IBM</td>\n",
       "      <td>INTERNATIONAL BUSINESS MACHS COR</td>\n",
       "      <td>20990</td>\n",
       "      <td>190.1875</td>\n",
       "      <td>0.007616</td>\n",
       "      <td>2</td>\n",
       "      <td>0.007616</td>\n",
       "      <td>-0.002051</td>\n",
       "    </tr>\n",
       "    <tr>\n",
       "      <th>1999-01-08</th>\n",
       "      <td>12490</td>\n",
       "      <td>IBM</td>\n",
       "      <td>INTERNATIONAL BUSINESS MACHS COR</td>\n",
       "      <td>20990</td>\n",
       "      <td>187.5625</td>\n",
       "      <td>-0.013802</td>\n",
       "      <td>2</td>\n",
       "      <td>-0.013802</td>\n",
       "      <td>0.004221</td>\n",
       "    </tr>\n",
       "  </tbody>\n",
       "</table>\n",
       "</div>"
      ],
      "text/plain": [
       "            PERMNO TICKER                            COMNAM  PERMCO       PRC  \\\n",
       "date                                                                            \n",
       "1999-01-04   12490    IBM  INTERNATIONAL BUSINESS MACHS COR   20990  183.0000   \n",
       "1999-01-05   12490    IBM  INTERNATIONAL BUSINESS MACHS COR   20990  189.6250   \n",
       "1999-01-06   12490    IBM  INTERNATIONAL BUSINESS MACHS COR   20990  188.7500   \n",
       "1999-01-07   12490    IBM  INTERNATIONAL BUSINESS MACHS COR   20990  190.1875   \n",
       "1999-01-08   12490    IBM  INTERNATIONAL BUSINESS MACHS COR   20990  187.5625   \n",
       "\n",
       "                 RET  CFACPR      RETX    sprtrn  \n",
       "date                                              \n",
       "1999-01-04 -0.007458       2 -0.007458 -0.000919  \n",
       "1999-01-05  0.036202       2  0.036202  0.013582  \n",
       "1999-01-06 -0.004614       2 -0.004614  0.022140  \n",
       "1999-01-07  0.007616       2  0.007616 -0.002051  \n",
       "1999-01-08 -0.013802       2 -0.013802  0.004221  "
      ]
     },
     "execution_count": 31,
     "metadata": {},
     "output_type": "execute_result"
    }
   ],
   "source": [
    "ibm.head()"
   ]
  },
  {
   "cell_type": "code",
   "execution_count": 32,
   "metadata": {},
   "outputs": [
    {
     "data": {
      "text/html": [
       "<div>\n",
       "<style scoped>\n",
       "    .dataframe tbody tr th:only-of-type {\n",
       "        vertical-align: middle;\n",
       "    }\n",
       "\n",
       "    .dataframe tbody tr th {\n",
       "        vertical-align: top;\n",
       "    }\n",
       "\n",
       "    .dataframe thead th {\n",
       "        text-align: right;\n",
       "    }\n",
       "</style>\n",
       "<table border=\"1\" class=\"dataframe\">\n",
       "  <thead>\n",
       "    <tr style=\"text-align: right;\">\n",
       "      <th></th>\n",
       "      <th>PERMNO</th>\n",
       "      <th>TICKER</th>\n",
       "      <th>COMNAM</th>\n",
       "      <th>PERMCO</th>\n",
       "      <th>PRC</th>\n",
       "      <th>RET</th>\n",
       "      <th>CFACPR</th>\n",
       "      <th>RETX</th>\n",
       "      <th>sprtrn</th>\n",
       "    </tr>\n",
       "    <tr>\n",
       "      <th>date</th>\n",
       "      <th></th>\n",
       "      <th></th>\n",
       "      <th></th>\n",
       "      <th></th>\n",
       "      <th></th>\n",
       "      <th></th>\n",
       "      <th></th>\n",
       "      <th></th>\n",
       "      <th></th>\n",
       "    </tr>\n",
       "  </thead>\n",
       "  <tbody>\n",
       "    <tr>\n",
       "      <th>2003-12-24</th>\n",
       "      <td>12490</td>\n",
       "      <td>IBM</td>\n",
       "      <td>INTERNATIONAL BUSINESS MACHS COR</td>\n",
       "      <td>20990</td>\n",
       "      <td>92.27</td>\n",
       "      <td>-0.005604</td>\n",
       "      <td>1</td>\n",
       "      <td>-0.005604</td>\n",
       "      <td>-0.001807</td>\n",
       "    </tr>\n",
       "    <tr>\n",
       "      <th>2003-12-26</th>\n",
       "      <td>12490</td>\n",
       "      <td>IBM</td>\n",
       "      <td>INTERNATIONAL BUSINESS MACHS COR</td>\n",
       "      <td>20990</td>\n",
       "      <td>92.90</td>\n",
       "      <td>0.006828</td>\n",
       "      <td>1</td>\n",
       "      <td>0.006828</td>\n",
       "      <td>0.001691</td>\n",
       "    </tr>\n",
       "    <tr>\n",
       "      <th>2003-12-29</th>\n",
       "      <td>12490</td>\n",
       "      <td>IBM</td>\n",
       "      <td>INTERNATIONAL BUSINESS MACHS COR</td>\n",
       "      <td>20990</td>\n",
       "      <td>93.52</td>\n",
       "      <td>0.006674</td>\n",
       "      <td>1</td>\n",
       "      <td>0.006674</td>\n",
       "      <td>0.012401</td>\n",
       "    </tr>\n",
       "    <tr>\n",
       "      <th>2003-12-30</th>\n",
       "      <td>12490</td>\n",
       "      <td>IBM</td>\n",
       "      <td>INTERNATIONAL BUSINESS MACHS COR</td>\n",
       "      <td>20990</td>\n",
       "      <td>92.63</td>\n",
       "      <td>-0.009517</td>\n",
       "      <td>1</td>\n",
       "      <td>-0.009517</td>\n",
       "      <td>0.000144</td>\n",
       "    </tr>\n",
       "    <tr>\n",
       "      <th>2003-12-31</th>\n",
       "      <td>12490</td>\n",
       "      <td>IBM</td>\n",
       "      <td>INTERNATIONAL BUSINESS MACHS COR</td>\n",
       "      <td>20990</td>\n",
       "      <td>92.68</td>\n",
       "      <td>0.000540</td>\n",
       "      <td>1</td>\n",
       "      <td>0.000540</td>\n",
       "      <td>0.002055</td>\n",
       "    </tr>\n",
       "  </tbody>\n",
       "</table>\n",
       "</div>"
      ],
      "text/plain": [
       "            PERMNO TICKER                            COMNAM  PERMCO    PRC  \\\n",
       "date                                                                         \n",
       "2003-12-24   12490    IBM  INTERNATIONAL BUSINESS MACHS COR   20990  92.27   \n",
       "2003-12-26   12490    IBM  INTERNATIONAL BUSINESS MACHS COR   20990  92.90   \n",
       "2003-12-29   12490    IBM  INTERNATIONAL BUSINESS MACHS COR   20990  93.52   \n",
       "2003-12-30   12490    IBM  INTERNATIONAL BUSINESS MACHS COR   20990  92.63   \n",
       "2003-12-31   12490    IBM  INTERNATIONAL BUSINESS MACHS COR   20990  92.68   \n",
       "\n",
       "                 RET  CFACPR      RETX    sprtrn  \n",
       "date                                              \n",
       "2003-12-24 -0.005604       1 -0.005604 -0.001807  \n",
       "2003-12-26  0.006828       1  0.006828  0.001691  \n",
       "2003-12-29  0.006674       1  0.006674  0.012401  \n",
       "2003-12-30 -0.009517       1 -0.009517  0.000144  \n",
       "2003-12-31  0.000540       1  0.000540  0.002055  "
      ]
     },
     "execution_count": 32,
     "metadata": {},
     "output_type": "execute_result"
    }
   ],
   "source": [
    "ibm.tail()"
   ]
  },
  {
   "cell_type": "code",
   "execution_count": 33,
   "metadata": {},
   "outputs": [],
   "source": [
    "prc = np.abs(ibm.PRC.values)\n",
    "ret = 100 * ibm.RET.values"
   ]
  },
  {
   "cell_type": "code",
   "execution_count": 34,
   "metadata": {},
   "outputs": [
    {
     "data": {
      "text/plain": [
       "0.03420429936305733"
      ]
     },
     "execution_count": 34,
     "metadata": {},
     "output_type": "execute_result"
    }
   ],
   "source": [
    "ret.mean()"
   ]
  },
  {
   "cell_type": "code",
   "execution_count": 35,
   "metadata": {},
   "outputs": [
    {
     "data": {
      "text/plain": [
       "6.305847511637566"
      ]
     },
     "execution_count": 35,
     "metadata": {},
     "output_type": "execute_result"
    }
   ],
   "source": [
    "ret.var()"
   ]
  },
  {
   "cell_type": "code",
   "execution_count": 36,
   "metadata": {},
   "outputs": [],
   "source": [
    "startingVals = array([ret.mean(), ret.var() * .01, 0.03, 0.09, .09])"
   ]
  },
  {
   "cell_type": "code",
   "execution_count": 37,
   "metadata": {},
   "outputs": [],
   "source": [
    "finfo = np.finfo(np.float64)\n",
    "bounds = [(-10*ret.mean(), 10*ret.mean()), (finfo.eps, 2*ret.var()), (0.0, 1.0), (0.0, 1.0), (0.0, 1.0)]"
   ]
  },
  {
   "cell_type": "code",
   "execution_count": 38,
   "metadata": {},
   "outputs": [],
   "source": [
    "T = ret.shape[0]"
   ]
  },
  {
   "cell_type": "code",
   "execution_count": 39,
   "metadata": {},
   "outputs": [],
   "source": [
    "sigma2 = np.ones(T) * ret.var()\n",
    "args = (np.asarray(ret), sigma2)"
   ]
  },
  {
   "cell_type": "code",
   "execution_count": 68,
   "metadata": {},
   "outputs": [
    {
     "name": "stdout",
     "output_type": "stream",
     "text": [
      "Optimization terminated successfully.    (Exit mode 0)\n",
      "            Current function value: 2839.0106169167507\n",
      "            Iterations: 28\n",
      "            Function evaluations: 216\n",
      "            Gradient evaluations: 28\n"
     ]
    }
   ],
   "source": [
    "estimates = fmin_slsqp(gjr_garch_likelihood, startingVals, f_ieqcons=gjr_constraint, bounds=bounds, args = args)"
   ]
  },
  {
   "cell_type": "code",
   "execution_count": 69,
   "metadata": {},
   "outputs": [
    {
     "data": {
      "text/plain": [
       "array([0.02951199, 0.018095  , 0.00337605, 0.08269122, 0.95527834])"
      ]
     },
     "execution_count": 69,
     "metadata": {},
     "output_type": "execute_result"
    }
   ],
   "source": [
    "estimates"
   ]
  },
  {
   "cell_type": "code",
   "execution_count": 72,
   "metadata": {},
   "outputs": [
    {
     "name": "stderr",
     "output_type": "stream",
     "text": [
      "/home/brough/anaconda3/lib/python3.7/site-packages/ipykernel_launcher.py:15: RuntimeWarning: invalid value encountered in log\n",
      "  from ipykernel import kernelapp as app\n"
     ]
    }
   ],
   "source": [
    "bob = minimize(fun=gjr_garch_likelihood, x0=startingVals, args=args, method='Nelder-Mead') #, bounds=bounds)"
   ]
  },
  {
   "cell_type": "code",
   "execution_count": 73,
   "metadata": {},
   "outputs": [
    {
     "data": {
      "text/plain": [
       " final_simplex: (array([[0.02113193, 0.01216813, 0.00318826, 0.08324996, 0.95705696],\n",
       "       [0.02109723, 0.01216096, 0.00318452, 0.08322738, 0.95707071],\n",
       "       [0.02119908, 0.01213519, 0.00318713, 0.0832479 , 0.95706285],\n",
       "       [0.02115491, 0.01215956, 0.00318295, 0.08325718, 0.95705829],\n",
       "       [0.02118094, 0.01217498, 0.00318836, 0.08321967, 0.95706331],\n",
       "       [0.02107593, 0.01216487, 0.00319355, 0.08323139, 0.95706008]]), array([2838.87291525, 2838.8729159 , 2838.8729161 , 2838.87291614,\n",
       "       2838.87291706, 2838.87291715]))\n",
       "           fun: 2838.8729152505502\n",
       "       message: 'Optimization terminated successfully.'\n",
       "          nfev: 929\n",
       "           nit: 578\n",
       "        status: 0\n",
       "       success: True\n",
       "             x: array([0.02113193, 0.01216813, 0.00318826, 0.08324996, 0.95705696])"
      ]
     },
     "execution_count": 73,
     "metadata": {},
     "output_type": "execute_result"
    }
   ],
   "source": [
    "bob"
   ]
  },
  {
   "cell_type": "code",
   "execution_count": null,
   "metadata": {},
   "outputs": [],
   "source": []
  }
 ],
 "metadata": {
  "kernelspec": {
   "display_name": "Python 3",
   "language": "python",
   "name": "python3"
  },
  "language_info": {
   "codemirror_mode": {
    "name": "ipython",
    "version": 3
   },
   "file_extension": ".py",
   "mimetype": "text/x-python",
   "name": "python",
   "nbconvert_exporter": "python",
   "pygments_lexer": "ipython3",
   "version": "3.7.1"
  }
 },
 "nbformat": 4,
 "nbformat_minor": 2
}
