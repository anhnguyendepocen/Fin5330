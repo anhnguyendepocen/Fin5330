{
 "cells": [
  {
   "cell_type": "markdown",
   "metadata": {},
   "source": [
    "# __Brough Lecture Notes: GARCH Models - Asymmetric Models__\n",
    "\n",
    "<br>\n",
    "\n",
    "Finance 5330: Financial Econometrics <br>\n",
    "Tyler J. Brough <br>\n",
    "Last Updated: March 28, 2019 <br>\n",
    "<br>\n",
    "<br>\n",
    "\n",
    "These notes are based in part on several chapters in the series of books on [Market Risk Analysis](http://carolalexander.org/market-risk-analysis/) by Carol Alexander.\n",
    "\n",
    "<br>"
   ]
  },
  {
   "cell_type": "markdown",
   "metadata": {},
   "source": [
    "There is a mind-numbing alphabet soup of variations on GARCH models. These notes introduce you to one simple extension known as the GJR-GARCH model, named for the initials of its [inventors](https://bit.ly/2U1d8Kj).\n",
    "\n",
    "<br>\n",
    "\n",
    "Ever since [Black 1976](https://bit.ly/2CGBNck) economists have become aware of what Black called the _leverage effect_.\n",
    "This basically means that there is an _asymmetric_ response to past volatility shocks.\n",
    "\n",
    "<br>\n",
    "\n",
    "To account for this GJR add a single extra _leverage_ parameter that augments the weight of the response in the model to negative market shocks. \n",
    "\n",
    "<br>\n",
    "\n",
    "The model can be written down as: \n",
    "\n",
    "<br>\n",
    "\n",
    "$$\n",
    "\\sigma_{t}^{2} = \\omega + \\alpha \\epsilon_{t-1}^{2} + \\lambda I_{\\{\\epsilon_{t-1} < 0\\}} \\epsilon_{t-1}^{2} + \\beta \\sigma_{t-1}^{2}\n",
    "$$\n",
    "\n",
    "<br>\n",
    "\n",
    "where $I_{\\{\\epsilon_{t-1} < 0 \\}} = 1$ if $\\epsilon_{t-1} < 0$ and $0$ otherwise (called an indicator function).\n",
    "\n",
    "<br>\n",
    "\n",
    "MLE parameter estimation is based on the usual GARCH likelihood function, where $\\sigma_{t}$ depends now on $\\lambda$.\n",
    "\n",
    "<br>\n",
    "\n",
    "__NB:__ Note that if $\\lambda = 0$ then we have a simple GARCH(1,1) model, so the GJR-GARCH model is a generalization\n",
    "        of the standard GARCH model. \n",
    "        \n",
    "<br>\n",
    "\n",
    "__NB:__ Note that a general GJR-GARCH(p, o, q) model could be written down similar to a GARCH(p, q) model where the $o$\n",
    "        parameter is the number of lags in the _leverage term_. \n",
    "        \n",
    "<br>"
   ]
  },
  {
   "cell_type": "markdown",
   "metadata": {},
   "source": [
    "The GJR-GARCH model has often been found to improve the fit to data relative to a standard symmetric GARCH model. \n",
    "\n",
    "<br>\n",
    "\n",
    "The standard model specification is a GRJ-GARCH(1,1,1) model (similar to the GARCH(1,1) case). "
   ]
  },
  {
   "cell_type": "code",
   "execution_count": null,
   "metadata": {},
   "outputs": [],
   "source": []
  }
 ],
 "metadata": {
  "kernelspec": {
   "display_name": "Python 3",
   "language": "python",
   "name": "python3"
  },
  "language_info": {
   "codemirror_mode": {
    "name": "ipython",
    "version": 3
   },
   "file_extension": ".py",
   "mimetype": "text/x-python",
   "name": "python",
   "nbconvert_exporter": "python",
   "pygments_lexer": "ipython3",
   "version": "3.7.1"
  }
 },
 "nbformat": 4,
 "nbformat_minor": 2
}
