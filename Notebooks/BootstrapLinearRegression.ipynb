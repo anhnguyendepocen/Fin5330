{
 "cells": [
  {
   "cell_type": "code",
   "execution_count": 30,
   "metadata": {},
   "outputs": [],
   "source": [
    "import numpy as np\n",
    "from scipy import stats"
   ]
  },
  {
   "cell_type": "code",
   "execution_count": 31,
   "metadata": {},
   "outputs": [],
   "source": [
    "M = 100"
   ]
  },
  {
   "cell_type": "code",
   "execution_count": 32,
   "metadata": {},
   "outputs": [],
   "source": [
    "x = np.random.uniform(size=M)"
   ]
  },
  {
   "cell_type": "code",
   "execution_count": 33,
   "metadata": {},
   "outputs": [],
   "source": [
    "u = np.random.normal(size=M)"
   ]
  },
  {
   "cell_type": "code",
   "execution_count": 34,
   "metadata": {},
   "outputs": [],
   "source": [
    "a = 0.22\n",
    "b = 2.50"
   ]
  },
  {
   "cell_type": "code",
   "execution_count": 35,
   "metadata": {},
   "outputs": [],
   "source": [
    "y = a + b * x + u"
   ]
  },
  {
   "cell_type": "code",
   "execution_count": 36,
   "metadata": {},
   "outputs": [],
   "source": [
    "results = stats.linregress(x,y)"
   ]
  },
  {
   "cell_type": "code",
   "execution_count": 37,
   "metadata": {},
   "outputs": [
    {
     "name": "stdout",
     "output_type": "stream",
     "text": [
      "Variable   Type                Data/Info\n",
      "----------------------------------------\n",
      "B          int                 10000\n",
      "M          int                 100\n",
      "a          float               0.22\n",
      "ahat       float64             -0.15827288801715\n",
      "b          float               2.5\n",
      "bhat       float64             2.633716267410961\n",
      "np         module              <module 'numpy' from '/ho<...>kages/numpy/__init__.py'>\n",
      "resids     ndarray             100: 100 elems, type `float64`, 800 bytes\n",
      "results    LinregressResult    LinregressResult(slope=2.<...>tderr=0.3525965489719594)\n",
      "stats      module              <module 'scipy.stats' fro<...>scipy/stats/__init__.py'>\n",
      "u          ndarray             100: 100 elems, type `float64`, 800 bytes\n",
      "x          ndarray             100: 100 elems, type `float64`, 800 bytes\n",
      "y          ndarray             100: 100 elems, type `float64`, 800 bytes\n",
      "yhat       ndarray             100: 100 elems, type `float64`, 800 bytes\n",
      "ysim       ndarray             100: 100 elems, type `float64`, 800 bytes\n",
      "z          ndarray             100: 100 elems, type `float64`, 800 bytes\n"
     ]
    }
   ],
   "source": [
    "whos"
   ]
  },
  {
   "cell_type": "code",
   "execution_count": 38,
   "metadata": {},
   "outputs": [],
   "source": [
    "ahat = results.intercept"
   ]
  },
  {
   "cell_type": "code",
   "execution_count": 39,
   "metadata": {},
   "outputs": [],
   "source": [
    "bhat = results.slope"
   ]
  },
  {
   "cell_type": "code",
   "execution_count": 44,
   "metadata": {},
   "outputs": [],
   "source": [
    "yhat = ahat * bhat * x\n",
    "resids = y - yhat\n",
    "\n",
    "B = 25000\n",
    "vals = np.empty(B)\n",
    "\n",
    "for b in range(B): \n",
    "    z = np.random.choice(resids, size=M, replace=True)\n",
    "    ysim = ahat + bhat * x + z\n",
    "    res = stats.linregress(x, ysim)\n",
    "    vals[b] = res.slope"
   ]
  },
  {
   "cell_type": "code",
   "execution_count": 45,
   "metadata": {},
   "outputs": [],
   "source": [
    "import matplotlib.pyplot as plt"
   ]
  },
  {
   "cell_type": "code",
   "execution_count": 46,
   "metadata": {},
   "outputs": [
    {
     "data": {
      "text/plain": [
       "(array([  12.,  145.,  881., 3323., 6566., 7476., 4665., 1605.,  294.,\n",
       "          33.]),\n",
       " array([0.96587979, 1.30695219, 1.64802459, 1.989097  , 2.3301694 ,\n",
       "        2.6712418 , 3.01231421, 3.35338661, 3.69445902, 4.03553142,\n",
       "        4.37660382]),\n",
       " <a list of 10 Patch objects>)"
      ]
     },
     "execution_count": 46,
     "metadata": {},
     "output_type": "execute_result"
    },
    {
     "data": {
      "image/png": "[encoded data removed]",
      "text/plain": [
       "<Figure size 432x288 with 1 Axes>"
      ]
     },
     "metadata": {
      "needs_background": "light"
     },
     "output_type": "display_data"
    }
   ],
   "source": [
    "plt.hist(vals)"
   ]
  },
  {
   "cell_type": "code",
   "execution_count": null,
   "metadata": {},
   "outputs": [],
   "source": []
  }
 ],
 "metadata": {
  "kernelspec": {
   "display_name": "Python 3",
   "language": "python",
   "name": "python3"
  },
  "language_info": {
   "codemirror_mode": {
    "name": "ipython",
    "version": 3
   },
   "file_extension": ".py",
   "mimetype": "text/x-python",
   "name": "python",
   "nbconvert_exporter": "python",
   "pygments_lexer": "ipython3",
   "version": "3.7.1"
  }
 },
 "nbformat": 4,
 "nbformat_minor": 2
}
