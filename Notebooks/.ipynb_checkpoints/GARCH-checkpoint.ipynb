{
 "cells": [
  {
   "cell_type": "markdown",
   "metadata": {},
   "source": [
    "# __Brough Lecture Notes: GARCH Models__\n",
    "\n",
    "<br>\n",
    "\n",
    "Finance 5330: Financial Econometrics <br>\n",
    "Tyler J. Brough <br>\n",
    "Last Updated: March 21, 2019 <br>\n",
    "<br>"
   ]
  },
  {
   "cell_type": "code",
   "execution_count": 1,
   "metadata": {},
   "outputs": [],
   "source": [
    "import numpy as np\n",
    "import pandas as pd\n",
    "import matplotlib.pyplot as plt"
   ]
  },
  {
   "cell_type": "markdown",
   "metadata": {},
   "source": [
    "## Volatility Models\n",
    "\n",
    "<br>\n",
    "\n",
    "__Q:__ Why do we care about volatility? \n",
    "\n",
    "<br>\n",
    "\n",
    "__1.__ Many derivative security pricing models depend explicitly upon volatility. \n",
    "\n",
    "\n",
    "_Example:_ The Black-Scholes-Merton option pricing model for a European call option:\n",
    "\n",
    "<br>\n",
    "<br>\n",
    "\n",
    "$$\n",
    "c = e^{-q T} S N(d_{1}) - e^{-r T} N(d_{2})\n",
    "$$\n",
    "\n",
    "where:\n",
    "\n",
    "* $c =$ current call price\n",
    "\n",
    "* $S =$ current spot price of the underlying asset\n",
    "\n",
    "* $q =$ dividend payout rate\n",
    "\n",
    "* $T =$ time to maturity of the contract\n",
    "\n",
    "* $K =$ strike price of the contract\n",
    "\n",
    "* $N(\\cdot)$ is the standard normal cumulative distribution function (CDF)\n",
    "\n",
    "and\n",
    "\n",
    "<br>\n",
    "\n",
    "$$\n",
    "\\begin{aligned}\n",
    "d_{1} &= \\frac{\\ln{(S/K)} + (r - q + \\frac{1}{2} \\sigma^{2})T}{\\sigma \\sqrt{T}} \\\\\n",
    "d_{2} &= d_{1} - \\sigma \\sqrt{T}\n",
    "\\end{aligned}\n",
    "$$\n",
    "\n",
    "<br>\n",
    "\n",
    "In order to correctly price the option we often must first estimate $\\sigma$!\n",
    "\n",
    "<br>\n",
    "\n",
    "__NB:__ The BSM model assumes that $\\sigma$ is known and constant. \n",
    "\n",
    "<br>"
   ]
  },
  {
   "cell_type": "markdown",
   "metadata": {},
   "source": [
    "___Remark:___ BSM implied volatility is (empirically) time varying\n",
    "\n",
    "<br>\n",
    "\n",
    "$$\n",
    "\\sigma_{t}^{implied}: \\quad c_{t}^{obs} - c_{t}^{BSM}(\\sigma_{t}^{implied}, \\ldots) = 0\n",
    "$$\n",
    "\n",
    "<br>\n",
    "\n",
    "If the BSM assumptions were correct then $\\sigma_{t}^{implied} = \\bar{\\sigma} \\mbox{(a constant)}$.\n",
    "\n",
    "<br>\n",
    "\n",
    "__NB:__ $\\sigma_{t}^{implied}$ is an observable time series of volatility estimates based on a model for option prices.\n",
    "\n",
    "<br>\n",
    "\n",
    "___Remark:___ Solving the BSM model, given observed call prices, for the implied volatility requires numerical optimization techniques. The so-called Newton-Raphson method is one of the most widely used and efficient algorithms.\n",
    "\n",
    "<br>"
   ]
  },
  {
   "cell_type": "markdown",
   "metadata": {},
   "source": [
    "__2.__ Many applications in risk management and hedging require contronting the time-varying nature of volatility in financial time series data.\n",
    "\n",
    "<br>\n",
    "\n",
    "__3.__ Portfolio allocation in a Markowitz mean-variance framework depends explicitly on volatility (also covariance/correlation).\n",
    "\n",
    "<br>\n",
    "\n",
    "__4.__ Modeling the volatility of a time series can improve the efficiency in parameter estimation (e.g. feasible GLS)\n",
    "\n",
    "<br>"
   ]
  },
  {
   "cell_type": "markdown",
   "metadata": {},
   "source": [
    "## Empirical Regularities of Asset Prices\n",
    "\n",
    "<br>\n",
    "\n",
    "1. Thick tails: excess kurtosis decreases with aggregation\n",
    "\n",
    "\n",
    "2. Volatility clustering\n",
    "    - Large changes followed by large changes; small changes followed by small changes\n",
    "    - FV_RR: macro aggregates are driven by shocks with heteroscedasticity\n",
    "    \n",
    "3. Leverage effects\n",
    "    - Changes in prices often negatively correlated with changes in volatility\n",
    "    \n",
    "4. Non-trading Periods\n",
    "    - Volatility is smaller over periods when markets are closed than when open\n",
    "    \n",
    "5. Forecastable events\n",
    "    - Forecastable releases of information are associated with high ex ante volatility\n",
    "    \n",
    "6. Volatility and serial correlation\n",
    "    - inverse relationship between volatility and serial correlation of stock indices\n",
    "    \n",
    "<br>"
   ]
  },
  {
   "cell_type": "code",
   "execution_count": 2,
   "metadata": {},
   "outputs": [
    {
     "data": {
      "text/html": [
       "<div>\n",
       "<style scoped>\n",
       "    .dataframe tbody tr th:only-of-type {\n",
       "        vertical-align: middle;\n",
       "    }\n",
       "\n",
       "    .dataframe tbody tr th {\n",
       "        vertical-align: top;\n",
       "    }\n",
       "\n",
       "    .dataframe thead th {\n",
       "        text-align: right;\n",
       "    }\n",
       "</style>\n",
       "<table border=\"1\" class=\"dataframe\">\n",
       "  <thead>\n",
       "    <tr style=\"text-align: right;\">\n",
       "      <th></th>\n",
       "      <th>PRC</th>\n",
       "      <th>sprtrn</th>\n",
       "    </tr>\n",
       "    <tr>\n",
       "      <th>date</th>\n",
       "      <th></th>\n",
       "      <th></th>\n",
       "    </tr>\n",
       "  </thead>\n",
       "  <tbody>\n",
       "    <tr>\n",
       "      <th>2008-01-02</th>\n",
       "      <td>104.69</td>\n",
       "      <td>-0.014438</td>\n",
       "    </tr>\n",
       "    <tr>\n",
       "      <th>2008-01-03</th>\n",
       "      <td>104.90</td>\n",
       "      <td>0.000000</td>\n",
       "    </tr>\n",
       "    <tr>\n",
       "      <th>2008-01-04</th>\n",
       "      <td>101.13</td>\n",
       "      <td>-0.024552</td>\n",
       "    </tr>\n",
       "    <tr>\n",
       "      <th>2008-01-07</th>\n",
       "      <td>100.05</td>\n",
       "      <td>0.003223</td>\n",
       "    </tr>\n",
       "    <tr>\n",
       "      <th>2008-01-08</th>\n",
       "      <td>97.59</td>\n",
       "      <td>-0.018352</td>\n",
       "    </tr>\n",
       "  </tbody>\n",
       "</table>\n",
       "</div>"
      ],
      "text/plain": [
       "               PRC    sprtrn\n",
       "date                        \n",
       "2008-01-02  104.69 -0.014438\n",
       "2008-01-03  104.90  0.000000\n",
       "2008-01-04  101.13 -0.024552\n",
       "2008-01-07  100.05  0.003223\n",
       "2008-01-08   97.59 -0.018352"
      ]
     },
     "execution_count": 2,
     "metadata": {},
     "output_type": "execute_result"
    }
   ],
   "source": [
    "inFile = \"./data/ibm-sp500.csv\"\n",
    "df = pd.read_csv(inFile, parse_dates=True, index_col=0)\n",
    "df.head()"
   ]
  },
  {
   "cell_type": "code",
   "execution_count": 3,
   "metadata": {},
   "outputs": [
    {
     "data": {
      "text/html": [
       "<div>\n",
       "<style scoped>\n",
       "    .dataframe tbody tr th:only-of-type {\n",
       "        vertical-align: middle;\n",
       "    }\n",
       "\n",
       "    .dataframe tbody tr th {\n",
       "        vertical-align: top;\n",
       "    }\n",
       "\n",
       "    .dataframe thead th {\n",
       "        text-align: right;\n",
       "    }\n",
       "</style>\n",
       "<table border=\"1\" class=\"dataframe\">\n",
       "  <thead>\n",
       "    <tr style=\"text-align: right;\">\n",
       "      <th></th>\n",
       "      <th>PRC</th>\n",
       "      <th>sprtrn</th>\n",
       "    </tr>\n",
       "    <tr>\n",
       "      <th>date</th>\n",
       "      <th></th>\n",
       "      <th></th>\n",
       "    </tr>\n",
       "  </thead>\n",
       "  <tbody>\n",
       "    <tr>\n",
       "      <th>2018-12-24</th>\n",
       "      <td>107.57</td>\n",
       "      <td>-0.027112</td>\n",
       "    </tr>\n",
       "    <tr>\n",
       "      <th>2018-12-26</th>\n",
       "      <td>111.39</td>\n",
       "      <td>0.049594</td>\n",
       "    </tr>\n",
       "    <tr>\n",
       "      <th>2018-12-27</th>\n",
       "      <td>113.78</td>\n",
       "      <td>0.008563</td>\n",
       "    </tr>\n",
       "    <tr>\n",
       "      <th>2018-12-28</th>\n",
       "      <td>113.03</td>\n",
       "      <td>-0.001242</td>\n",
       "    </tr>\n",
       "    <tr>\n",
       "      <th>2018-12-31</th>\n",
       "      <td>113.67</td>\n",
       "      <td>0.008492</td>\n",
       "    </tr>\n",
       "  </tbody>\n",
       "</table>\n",
       "</div>"
      ],
      "text/plain": [
       "               PRC    sprtrn\n",
       "date                        \n",
       "2018-12-24  107.57 -0.027112\n",
       "2018-12-26  111.39  0.049594\n",
       "2018-12-27  113.78  0.008563\n",
       "2018-12-28  113.03 -0.001242\n",
       "2018-12-31  113.67  0.008492"
      ]
     },
     "execution_count": 3,
     "metadata": {},
     "output_type": "execute_result"
    }
   ],
   "source": [
    "df.tail()"
   ]
  },
  {
   "cell_type": "code",
   "execution_count": 7,
   "metadata": {},
   "outputs": [
    {
     "data": {
      "text/plain": [
       "[<matplotlib.lines.Line2D at 0x7fc569f45e48>]"
      ]
     },
     "execution_count": 7,
     "metadata": {},
     "output_type": "execute_result"
    },
    {
     "data": {
      "image/png": "[encoded data removed]",
      "text/plain": [
       "<Figure size 432x288 with 1 Axes>"
      ]
     },
     "metadata": {
      "needs_background": "light"
     },
     "output_type": "display_data"
    }
   ],
   "source": [
    "r2SP = df.sprtrn.values**2\n",
    "plt.plot(r2SP, color=\"orange\")"
   ]
  },
  {
   "cell_type": "code",
   "execution_count": 9,
   "metadata": {},
   "outputs": [
    {
     "data": {
      "text/plain": [
       "[<matplotlib.lines.Line2D at 0x7fc567b23710>]"
      ]
     },
     "execution_count": 9,
     "metadata": {},
     "output_type": "execute_result"
    },
    {
     "data": {
      "image/png": "[encoded data removed]",
      "text/plain": [
       "<Figure size 432x288 with 1 Axes>"
      ]
     },
     "metadata": {
      "needs_background": "light"
     },
     "output_type": "display_data"
    }
   ],
   "source": [
    "retIBM = df.PRC.apply(np.abs).apply(np.log).diff()\n",
    "r2IBM = retIBM ** 2\n",
    "plt.plot(r2IBM, color=\"purple\")"
   ]
  },
  {
   "cell_type": "markdown",
   "metadata": {},
   "source": [
    "## Engle's ARCH(p) Model\n",
    "\n",
    "<br>\n",
    "\n",
    "__ARCH:__ Autoregressive Conditional Heteroscedasticity\n",
    "\n",
    "<br>\n",
    "\n",
    "The simplest form is the ARCH(1) model:\n",
    "\n",
    "$$\n",
    "\\begin{aligned}\n",
    "y_{t}        &= x_{t}^{\\prime} \\beta + \\epsilon_{t} \\\\\n",
    "\\epsilon_{t} &= u_{t} \\sqrt{\\alpha_{0} + \\alpha_{1} \\epsilon_{t-1}^{2}}\n",
    "\\end{aligned}\n",
    "$$\n",
    "\n",
    "with $u_{t} \\sim N(0, 1)$\n",
    "\n",
    "<br>\n",
    "\n",
    "It follows that $E(\\epsilon_{t} | x_{t}, \\epsilon_{t-1}) = 0$, so that $E(\\epsilon_{t} | x_{t}) = 0$\n",
    "and $E(y_{t} | x_{t}) = x_{t}^{\\prime} \\beta$. \n",
    "\n",
    "This is a CLRM!\n",
    "\n",
    "<br>"
   ]
  },
  {
   "cell_type": "markdown",
   "metadata": {},
   "source": [
    "__BUT__, \n",
    "\n",
    "$$\n",
    "Var(\\epsilon_{t} | \\epsilon_{t-1}) = E(\\epsilon_{t}^{2} | \\epsilon_{t-1}) = E[u_{t}^{2}][\\alpha_{0} + \\alpha_{1} \\epsilon_{t-1}^{2}]\n",
    "$$\n",
    "\n",
    "<br>\n",
    "\n",
    "So $\\epsilon_{t}$ is _conditionally heteroscedastic_, not wrt to $x_{t}$ as before but with respect to $\\epsilon_{t-1}$.\n",
    "\n",
    "<br>\n",
    "\n",
    "The unconditional variance:\n",
    "\n",
    "$$\n",
    "\\begin{aligned}\n",
    "Var(\\epsilon_{t}) &= Var[E(\\epsilon_{t} | \\epsilon_{t-1})] + E[(Var(\\epsilon_{t} | \\epsilon_{t-1})] \\\\\n",
    "                  &= \\alpha_{0} + \\alpha_{1} E[\\epsilon_{t-1}^{2}] \\\\\n",
    "                  &= \\alpha_{0} + \\alpha_{1} Var(\\epsilon_{t-1})\n",
    "\\end{aligned}\n",
    "$$\n",
    "\n",
    "<br>\n",
    "\n",
    "If the process generating the disturbances is weakly stationary, then the unconditional variance is not changing over time so\n",
    "\n",
    "$$\n",
    "\\begin{aligned}\n",
    "Var[\\epsilon_{t}] &= Var[\\epsilon_{t-1}] = \\alpha_{0} + \\alpha_{1} Var[\\epsilon_{t-1}] \\\\\n",
    "                  &= \\frac{\\alpha_{0}}{1 - \\alpha_{1}}\n",
    "\\end{aligned}\n",
    "$$\n",
    "\n",
    "<br>\n",
    "<br>\n",
    "\n",
    "_Derivation:_\n",
    "\n",
    "$$\n",
    "\\begin{aligned}\n",
    "Var[\\epsilon_{t-1}]                 &= \\alpha_{0} + \\alpha_{1} Var[\\epsilon_{t-1}] \\\\\n",
    "Var[\\epsilon_{t-1}](1 - \\alpha_{1}) &= \\alpha_{0} \\\\\n",
    "Var[\\epsilon_{t-1}]                 &= \\frac{\\alpha_{0}}{1 - \\alpha_{1}}\n",
    "\\end{aligned}\n",
    "$$\n",
    "\n",
    "<br>\n",
    "<br>\n",
    "\n",
    "For this ratio to be finite and positive, $|\\alpha_{1}| < 1$.\n",
    "\n",
    "Then, unconditionally $\\epsilon_{t}$ is distributed with zero mean and variance $\\sigma_{2} = \\frac{\\alpha_{0}}{1 - \\alpha_{1}}$\n",
    "\n",
    "<br>"
   ]
  },
  {
   "cell_type": "markdown",
   "metadata": {},
   "source": [
    "Therefore, the model obeys the classical assumptions, and OLS is the most efficient linear unbiased estimator of $\\beta$.\n",
    "\n",
    "<br>\n",
    "\n",
    "But, there is a more efficient _nonlinear_ estimator. The log-likelihood function for the model is given in Engle (1982). Conditional on starting values $y_{0}$ and $x_{0} (\\epsilon_{0})$, the conditional likelihood for observations is:\n",
    "\n",
    "$$\n",
    "lnL = -\\frac{T}{2} \\ln(2\\pi) - \\frac{1}{2} \\sum_{t=1}^{T} ln(\\alpha_{0} + \\alpha_{1} \\epsilon_{t-1}^{2}) - \\frac{1}{2} \\sum\\limits_{t=1}^{T} \\frac{\\epsilon_{t-1}^{2}}{\\alpha_{0} + \\alpha_{1} \\epsilon_{t-1}^{2}}\n",
    "$$\n",
    "\n",
    "with $\\epsilon_{t} = y_{t} - \\beta^{\\prime} x_{t}$\n",
    "\n",
    "<br>\n",
    "\n",
    "Maximization of the $lnL$ can be done with conventional methods (See Appendix E in Greene).\n",
    "\n",
    "<br>\n",
    "\n",
    "The most common approach is the Newton-Raphson method.\n",
    "\n",
    "<br>"
   ]
  },
  {
   "cell_type": "markdown",
   "metadata": {},
   "source": [
    "The natural extension to the ARCH(1) model is the ARCH(p) model:\n",
    "\n",
    "<br>\n",
    "<br>\n",
    "\n",
    "$$\n",
    "\\sigma_{t}^{2} = \\alpha_{0} + \\alpha_{1} \\epsilon_{t-1}^{2} + \\alpha_{2}\\epsilon_{t-2}^{2} + \\cdots + \\alpha_{p}\\epsilon_{t-p}^{2}\n",
    "$$\n",
    "\n",
    "<br>\n",
    "\n",
    "__NB:__ This is an MA(q) process!\n",
    "\n",
    "<br>\n",
    "\n",
    "__Next:__ we will look at testing for ARCH effects and introduce the Genearlized ARCH or ___GARCH___ model. \n",
    "\n",
    "<br>\n",
    "\n",
    "__NB:__ before we move on: Engle specified his ARCH model in terms of the linear regression model. A simple model for heteroscedasticity in return volatility could be the following (in terms of an ARCH(1) model for simplicity): \n",
    "\n",
    "$$\n",
    "\\begin{aligned}\n",
    "r_{t}          &= \\epsilon_{t} \\sigma_{t} \\quad \\mbox{with} \\quad \\epsilon \\sim N(0,1) \\\\\n",
    "\\sigma_{t}^{2} &= \\alpha_{0} + \\alpha_{1} \\epsilon_{t-1}^{2}\n",
    "\\end{aligned}\n",
    "$$\n",
    "\n",
    "<br>\n",
    "\n",
    "Or simply as\n",
    "\n",
    "<br>\n",
    "\n",
    "$$\n",
    "r_{t} = \\epsilon_{t} \\sqrt{\\alpha_{0} + \\alpha_{1} \\epsilon_{t-1}^{2}}\n",
    "$$\n",
    "\n",
    "<br>\n",
    "\n",
    "With this setup, I think one can now see how to apply an IID boostrap scheme to the model by drawing from the residuals:\n",
    "\n",
    "$$\n",
    "\\hat{\\epsilon_{t}} = \\frac{r_{t}}{\\hat{\\sigma_{t}}}\n",
    "$$\n",
    "\n",
    "given the estimated model parameters ($\\hat{\\alpha_{0}}$, $\\hat{\\alpha_{1}}$), and the initial condition $\\epsilon_{0}$. \n",
    "\n",
    "<br>\n",
    "\n",
    "One could then use this simple model to simulate a predictive density.\n",
    "\n",
    "<br>"
   ]
  },
  {
   "cell_type": "code",
   "execution_count": null,
   "metadata": {},
   "outputs": [],
   "source": []
  }
 ],
 "metadata": {
  "kernelspec": {
   "display_name": "Python 3",
   "language": "python",
   "name": "python3"
  },
  "language_info": {
   "codemirror_mode": {
    "name": "ipython",
    "version": 3
   },
   "file_extension": ".py",
   "mimetype": "text/x-python",
   "name": "python",
   "nbconvert_exporter": "python",
   "pygments_lexer": "ipython3",
   "version": "3.7.1"
  }
 },
 "nbformat": 4,
 "nbformat_minor": 2
}
