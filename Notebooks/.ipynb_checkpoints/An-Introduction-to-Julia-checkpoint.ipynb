{
 "cells": [
  {
   "cell_type": "markdown",
   "metadata": {},
   "source": [
    "# __An Introduction to the Julia Programming Language__\n",
    "\n",
    "<br>\n",
    "\n",
    "__Finance 5330: Financial Econometrics__ <br>\n",
    "Tyler J. Brough <br>\n",
    "Last Updated: January 10, 2020 <br>\n",
    "<br>"
   ]
  },
  {
   "cell_type": "markdown",
   "metadata": {},
   "source": [
    "## Nota Bene\n",
    "\n",
    "* These notes are based on Chapter 1 of the book _Introduction to Quantitative Macroeconomics Using Julia_ by Petre Caraiani (in Files & Media database on Notion).\n",
    "\n",
    "\n",
    "* An additional resource that you will want to check out is the [Quantitative Economics with Julia](https://julia.quantecon.org/index_toc.html) lecture notes. \n",
    "\n",
    "* The official [Julia Documentation](https://docs.julialang.org/en/v1/) is also very detailed and of high quality. "
   ]
  },
  {
   "cell_type": "markdown",
   "metadata": {},
   "source": [
    "## Overview\n",
    "\n",
    "* Julia is a new general purpose programming language that is focused on numerical and statistical computing. Its development began at MIT in 2009. In 2018 it reached a stable 1.0 release. \n",
    "\n",
    "\n",
    "* From Caraiani: _\"The main attractiveness of the [sic] Julia comes from combining the high level syntax of languages like Python and Matlab with the speed of low level languages like Fortran and C/C++.\"_ It is said that Julia solves the two language problem. See [this article (https://www.nature.com/articles/d41586-019-02310-3) at Nature for more details. \n",
    "\n",
    "\n",
    "Here is how the Julia design team position their language. See the language website: https://julialang.org/\n",
    "\n",
    "### Julia is fast!\n",
    "\n",
    "Julia was designed from the beginning for high performance. Julia programs compile to efficient native code for multiple platforms via LLVM.\n",
    "\n",
    "\n",
    "### Dynamic\n",
    "\n",
    "Julia is dynamically-typed, feels like a scripting language, and has good support for interactive use.\n",
    "\n",
    "\n",
    "### Optionally typed\n",
    "\n",
    "Julia has a rich language of descriptive datatypes, and type declarations can be used to clarify and solidify programs.\n",
    "\n",
    "\n",
    "### General\n",
    "\n",
    "Julia uses multiple dispatch as a paradigm, making it easy to express many object-oriented and functional programming patterns. It provides asynchronous I/O, debugging, logging, profiling, a package manager, and more.\n",
    "\n",
    "\n",
    "### Easy to use\n",
    "\n",
    "Julia has high level syntax, making it an accessible language for programmers from any background or experience level. Browse the Julia microbenchmarks to get a feel for the language.\n",
    "\n",
    "\n",
    "### Open source\n",
    "\n",
    "Julia is provided under the MIT license, free for everyone to use. All source code is publicly viewable on GitHub.\n",
    "\n",
    "\n",
    "<br>"
   ]
  },
  {
   "cell_type": "markdown",
   "metadata": {},
   "source": [
    "## Julia in a Nutshell"
   ]
  },
  {
   "cell_type": "markdown",
   "metadata": {},
   "source": [
    "### Installing Julia\n",
    "\n",
    "* To install Julia go to the [Julia downloads page](https://julialang.org/downloads/) and make the proper selection for your operating system (Windows or Mac OS - if you're on Linux I'm just going to assume you're okay on your own).\n",
    "\n",
    "* As of the time of writing this most current version of Julia is v1.3.1. Make sure that you get at least this version. \n",
    "\n",
    "\n",
    "#### Installing Anaconda\n",
    "\n",
    "I also strongly suggest that you install the Anaconda system. \n",
    "\n",
    "* Go to the [Anaconda downloads page](https://www.anaconda.com/distribution/) and make the proper selection for your operating system (again either Windows or Mac OS). \n",
    "\n",
    "* Make sure to get at least v3.7 of Python. \n",
    "\n",
    "* This will give us Jupyter Lab and an installation of Python to work with from Julia. \n",
    "\n",
    "\n",
    "#### Text Editors\n",
    "\n",
    "You will want to choose a good text editor. \n",
    "\n",
    "* If you don't have a strong preference then use Jupyter Lab. I'll be demonstrating this in class.\n",
    "\n",
    "\n",
    "* Julia comes bundled with a text editor called Juno, which is based off of Atom. It's pretty good. It's the straight forward editor to use if you don't know how to choose. \n",
    "\n",
    "\n",
    "* [Microsoft Visual Studio Code](https://code.visualstudio.com/) offers a good combination of simplicity and power.\n",
    "\n",
    "\n",
    "* I really like [Neovim](https://neovim.io/). Vim gives you super powers but has a steep learning curve. \n",
    "    - Learning Vim was an intellectual lightning strike for me!\n",
    "\n",
    "\n",
    "* [Emacs](https://www.gnu.org/software/emacs/) is nutso powerful and has a nearly infinite learning curve. Extra credit for the Brave and True!\n",
    "    - See what writer Neal Stephenson has to say about Emacs: https://www.emacswiki.org/emacs/NealStephenson\n",
    "    \n",
    "\n",
    "* Of course, Buddha who always advocated the [Middle Way](https://en.wikipedia.org/wiki/Middle_Way) would use [Doom](https://github.com/hlissner/doom-emacs) if he were alive today!\n",
    "    - Doom is Emacs with a builtin Vim emulator. It's the *Shiz* - is what I think the kids say these days!\n",
    "    - See these YouTube videos if you decide to follow this path: https://www.youtube.com/watch?v=rCMh7srOqvw\n",
    "\n",
    "\n",
    "<br>\n",
    "\n",
    "See here for the [QuantEcon install instructions](https://julia.quantecon.org/getting_started_julia/getting_started.html). Note that these may or may not be up-to-date.\n",
    "\n",
    "<br>"
   ]
  },
  {
   "cell_type": "markdown",
   "metadata": {},
   "source": [
    "### Julia Packages"
   ]
  },
  {
   "cell_type": "markdown",
   "metadata": {},
   "source": [
    "### Understanding the REPL"
   ]
  },
  {
   "cell_type": "markdown",
   "metadata": {},
   "source": [
    "### Variables and Operators"
   ]
  },
  {
   "cell_type": "markdown",
   "metadata": {},
   "source": [
    "### Vectors"
   ]
  },
  {
   "cell_type": "markdown",
   "metadata": {},
   "source": [
    "### Multidimensional Arrays"
   ]
  },
  {
   "cell_type": "markdown",
   "metadata": {},
   "source": [
    "### Functions"
   ]
  },
  {
   "cell_type": "markdown",
   "metadata": {},
   "source": [
    "### Control Flow"
   ]
  },
  {
   "cell_type": "markdown",
   "metadata": {},
   "source": [
    "### Working with Data"
   ]
  },
  {
   "cell_type": "markdown",
   "metadata": {},
   "source": [
    "### Working with Dates"
   ]
  },
  {
   "cell_type": "markdown",
   "metadata": {},
   "source": [
    "### Data Frames"
   ]
  },
  {
   "cell_type": "markdown",
   "metadata": {},
   "source": [
    "### Plotting with Julia"
   ]
  },
  {
   "cell_type": "markdown",
   "metadata": {},
   "source": [
    "## Advanced Features"
   ]
  },
  {
   "cell_type": "markdown",
   "metadata": {},
   "source": [
    "### Julia's Type System"
   ]
  },
  {
   "cell_type": "markdown",
   "metadata": {},
   "source": [
    "### Multiple Dispatch"
   ]
  },
  {
   "cell_type": "markdown",
   "metadata": {},
   "source": [
    "### Vectorization"
   ]
  },
  {
   "cell_type": "code",
   "execution_count": null,
   "metadata": {},
   "outputs": [],
   "source": []
  },
  {
   "cell_type": "markdown",
   "metadata": {},
   "source": [
    "## References"
   ]
  },
  {
   "cell_type": "code",
   "execution_count": null,
   "metadata": {},
   "outputs": [],
   "source": []
  }
 ],
 "metadata": {
  "kernelspec": {
   "display_name": "Julia 1.3.0",
   "language": "julia",
   "name": "julia-1.3"
  },
  "language_info": {
   "file_extension": ".jl",
   "mimetype": "application/julia",
   "name": "julia",
   "version": "1.3.0"
  }
 },
 "nbformat": 4,
 "nbformat_minor": 4
}
