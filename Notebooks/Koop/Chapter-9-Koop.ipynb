{
 "cells": [
  {
   "cell_type": "markdown",
   "metadata": {},
   "source": [
    "# __Chapter 9: Univariate Time Series Analysis__\n",
    "\n",
    "<br>\n",
    "\n",
    "__Finance 5330: Financial Econometrics__ <br>\n",
    "Tyler J. Brough <br>\n",
    "Created:      January 27, 2020 <br>\n",
    "Last Updated: January 27, 2020 <br>\n",
    "<br>"
   ]
  },
  {
   "cell_type": "markdown",
   "metadata": {},
   "source": [
    "## Nota Bene\n",
    "\n",
    "* These notes are based on Chapter 9 of the book _Analysis of Financial Data_ by Gary Koop.\n",
    "\n",
    "* We will cover the same material at a deeper mathematical and statistical level in Chapter 10 of the book _Market Models_ by Carol Alexander. "
   ]
  },
  {
   "cell_type": "code",
   "execution_count": 1,
   "metadata": {},
   "outputs": [
    {
     "ename": "ArgumentError",
     "evalue": "ArgumentError: Package DataFrames not found in current path:\n- Run `import Pkg; Pkg.add(\"DataFrames\")` to install the DataFrames package.\n",
     "output_type": "error",
     "traceback": [
      "ArgumentError: Package DataFrames not found in current path:\n- Run `import Pkg; Pkg.add(\"DataFrames\")` to install the DataFrames package.\n",
      "",
      "Stacktrace:",
      " [1] require(::Module, ::Symbol) at ./loading.jl:887",
      " [2] top-level scope at In[1]:1"
     ]
    }
   ],
   "source": [
    "using DataFrames"
   ]
  },
  {
   "cell_type": "markdown",
   "metadata": {},
   "source": [
    "## Introduction to Univariate Time Series Analysis\n",
    "\n",
    "The point of departure for this chapter is the linear regression model with lagged variables:\n",
    "\n",
    "$$\n",
    "Y_{t} = \\alpha + \\beta_{0} X_{t} + \\beta_{1} X_{t-1} + \\beta_{2} X_{t-2} + \\cdots + \\beta_{p} X_{t-p} + \\varepsilon_{t}\n",
    "$$\n",
    "\n",
    "Such models are a useful first step in understanding important concepts in time series analysis. Often these _distributed lag models_ can be used without problems, but can be misleading when: \n",
    "\n",
    "* the dependent variable $Y_{t}$ depends on lags of itself\n",
    "\n",
    "* the variables are nonstationary (to be defined)\n",
    "\n",
    "In this chapter we ignore the $X$ variable and focus entirely on $Y$. These are called __univariate time series__ methods. \n",
    "\n",
    "It is important to understand the properties of each individual series before proceeding to regression modelling involving several series. "
   ]
  },
  {
   "cell_type": "markdown",
   "metadata": {},
   "source": [
    "### Example: Stock Prices on the NYSE\n",
    "\n"
   ]
  },
  {
   "cell_type": "code",
   "execution_count": null,
   "metadata": {},
   "outputs": [],
   "source": []
  },
  {
   "cell_type": "markdown",
   "metadata": {},
   "source": [
    "## The Autocorrelation Function "
   ]
  },
  {
   "cell_type": "code",
   "execution_count": null,
   "metadata": {},
   "outputs": [],
   "source": []
  },
  {
   "cell_type": "code",
   "execution_count": null,
   "metadata": {},
   "outputs": [],
   "source": []
  },
  {
   "cell_type": "markdown",
   "metadata": {},
   "source": [
    "## The Autoregressive Model for Univariate Time Series"
   ]
  },
  {
   "cell_type": "code",
   "execution_count": null,
   "metadata": {},
   "outputs": [],
   "source": []
  },
  {
   "cell_type": "code",
   "execution_count": null,
   "metadata": {},
   "outputs": [],
   "source": []
  },
  {
   "cell_type": "markdown",
   "metadata": {},
   "source": [
    "## Nonstationary versus Stationary Time Series"
   ]
  },
  {
   "cell_type": "code",
   "execution_count": null,
   "metadata": {},
   "outputs": [],
   "source": []
  },
  {
   "cell_type": "code",
   "execution_count": null,
   "metadata": {},
   "outputs": [],
   "source": []
  },
  {
   "cell_type": "markdown",
   "metadata": {},
   "source": [
    "## Extensions of the $AR(1)$ Model"
   ]
  },
  {
   "cell_type": "code",
   "execution_count": null,
   "metadata": {},
   "outputs": [],
   "source": []
  },
  {
   "cell_type": "code",
   "execution_count": null,
   "metadata": {},
   "outputs": [],
   "source": []
  },
  {
   "cell_type": "markdown",
   "metadata": {},
   "source": [
    "## Testing in the $AR(p)$ with Deterministic Trend Model"
   ]
  },
  {
   "cell_type": "code",
   "execution_count": null,
   "metadata": {},
   "outputs": [],
   "source": []
  },
  {
   "cell_type": "code",
   "execution_count": null,
   "metadata": {},
   "outputs": [],
   "source": []
  },
  {
   "cell_type": "markdown",
   "metadata": {},
   "source": [
    "### Testing Involving $\\rho$"
   ]
  },
  {
   "cell_type": "code",
   "execution_count": null,
   "metadata": {},
   "outputs": [],
   "source": []
  },
  {
   "cell_type": "code",
   "execution_count": null,
   "metadata": {},
   "outputs": [],
   "source": []
  },
  {
   "cell_type": "markdown",
   "metadata": {},
   "source": [
    "## Chapter Summary\n",
    "\n",
    "1. Many financial time series exhibit trend behavior, while their differences do not exhibit such behavior. \n",
    "\n",
    "2. The autocorrelation function is a common tool for summarizing the relationship between a variable and lags of itself. \n",
    "\n",
    "3. Autoregressive models are regression models used for working with time series variables. Such models can be written in two ways: \n",
    "    - one with $Y_{t}$ as the dependent variable\n",
    "    - one with $\\Delta Y_{t}$ as the dependent variable\n",
    "\n",
    "\n",
    "4. The distinction between stationar and nonstationary models is a crucial one. \n",
    "\n",
    "5. Series with unit roots are the most common type of nonstationary series considered in financial research. \n",
    "\n",
    "6. If $Y_{t}$ has a unit root then the $AR(p)$ model with $\\Delta Y_{t}$ as the dependent variable can be estimated using OLS. Standard statistical results hold for all coeficients except the coefficient on $Y_{t-1}$.\n",
    "\n",
    "7. The Dickey-Fuller test is a test for the presence of a unit root. It involves testing whether the coefficient on $Y_{t-1}$ is equal to zero (in the $AR(p)$ model with $\\Delta Y_{t}$ being the dependent variable). "
   ]
  },
  {
   "cell_type": "code",
   "execution_count": null,
   "metadata": {},
   "outputs": [],
   "source": []
  },
  {
   "cell_type": "code",
   "execution_count": null,
   "metadata": {},
   "outputs": [],
   "source": []
  },
  {
   "cell_type": "markdown",
   "metadata": {},
   "source": [
    "## Appendix 9.1: Mathematical Intuition for the $AR(1)$ Model"
   ]
  },
  {
   "cell_type": "code",
   "execution_count": null,
   "metadata": {},
   "outputs": [],
   "source": []
  }
 ],
 "metadata": {
  "kernelspec": {
   "display_name": "Julia 1.3.0",
   "language": "julia",
   "name": "julia-1.3"
  },
  "language_info": {
   "file_extension": ".jl",
   "mimetype": "application/julia",
   "name": "julia",
   "version": "1.3.0"
  }
 },
 "nbformat": 4,
 "nbformat_minor": 4
}
