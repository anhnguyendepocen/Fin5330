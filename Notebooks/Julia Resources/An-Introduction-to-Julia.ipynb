{
 "cells": [
  {
   "cell_type": "markdown",
   "metadata": {},
   "source": [
    "# __An Introduction to the Julia Programming Language__\n",
    "\n",
    "<br>\n",
    "\n",
    "__Finance 5330: Financial Econometrics__ <br>\n",
    "Tyler J. Brough <br>\n",
    "Created:      January 10, 2020 <br>\n",
    "Last Updated: January 23, 2020 <br>\n",
    "<br>"
   ]
  },
  {
   "cell_type": "markdown",
   "metadata": {},
   "source": [
    "## Nota Bene\n",
    "\n",
    "* These notes are based on Chapter 1 of the book _Introduction to Quantitative Macroeconomics Using Julia_ by Petre Caraiani (in Files & Media database on Notion).\n",
    "\n",
    "\n",
    "* An additional resource that you will want to check out is the [Quantitative Economics with Julia](https://julia.quantecon.org/index_toc.html) lecture notes. \n",
    "\n",
    "* The official [Julia Documentation](https://docs.julialang.org/en/v1/) is also very detailed and of high quality. "
   ]
  },
  {
   "cell_type": "markdown",
   "metadata": {},
   "source": [
    "## Overview\n",
    "\n",
    "* Julia is a new general purpose programming language that is focused on numerical and statistical computing. Its development began at MIT in 2009. In 2018 it reached a stable 1.0 release. \n",
    "\n",
    "\n",
    "* From Caraiani: _\"The main attractiveness of the [sic] Julia comes from combining the high level syntax of languages like Python and Matlab with the speed of low level languages like Fortran and C/C++.\"_ It is said that Julia solves the two language problem. See [this article (https://www.nature.com/articles/d41586-019-02310-3) at Nature for more details. \n",
    "\n",
    "\n",
    "Here is how the Julia design team position their language. See the language website: https://julialang.org/\n",
    "\n",
    "### Julia is fast!\n",
    "\n",
    "Julia was designed from the beginning for high performance. Julia programs compile to efficient native code for multiple platforms via LLVM.\n",
    "\n",
    "\n",
    "### Dynamic\n",
    "\n",
    "Julia is dynamically-typed, feels like a scripting language, and has good support for interactive use.\n",
    "\n",
    "\n",
    "### Optionally typed\n",
    "\n",
    "Julia has a rich language of descriptive datatypes, and type declarations can be used to clarify and solidify programs.\n",
    "\n",
    "\n",
    "### General\n",
    "\n",
    "Julia uses multiple dispatch as a paradigm, making it easy to express many object-oriented and functional programming patterns. It provides asynchronous I/O, debugging, logging, profiling, a package manager, and more.\n",
    "\n",
    "\n",
    "### Easy to use\n",
    "\n",
    "Julia has high level syntax, making it an accessible language for programmers from any background or experience level. Browse the Julia microbenchmarks to get a feel for the language.\n",
    "\n",
    "\n",
    "### Open source\n",
    "\n",
    "Julia is provided under the MIT license, free for everyone to use. All source code is publicly viewable on GitHub.\n",
    "\n",
    "\n",
    "<br>"
   ]
  },
  {
   "cell_type": "markdown",
   "metadata": {},
   "source": [
    "## Julia in a Nutshell"
   ]
  },
  {
   "cell_type": "markdown",
   "metadata": {},
   "source": [
    "### Installing Julia\n",
    "\n",
    "* To install Julia go to the [Julia downloads page](https://julialang.org/downloads/) and make the proper selection for your operating system (Windows or Mac OS - if you're on Linux I'm just going to assume you're okay on your own).\n",
    "\n",
    "* As of the time of writing this most current version of Julia is v1.3.1. Make sure that you get at least this version. \n",
    "\n",
    "\n",
    "#### Installing Anaconda\n",
    "\n",
    "I also strongly suggest that you install the Anaconda system. \n",
    "\n",
    "* Go to the [Anaconda downloads page](https://www.anaconda.com/distribution/) and make the proper selection for your operating system (again either Windows or Mac OS). \n",
    "\n",
    "* Make sure to get at least v3.7 of Python. \n",
    "\n",
    "* This will give us Jupyter Lab and an installation of Python to work with from Julia. \n",
    "\n",
    "\n",
    "#### Text Editors\n",
    "\n",
    "You will want to choose a good text editor. \n",
    "\n",
    "* If you don't have a strong preference then use Jupyter Lab. I'll be demonstrating this in class.\n",
    "\n",
    "\n",
    "* Julia comes bundled with a text editor called Juno, which is based off of Atom. It's pretty good. It's the straight forward editor to use if you don't know how to choose. \n",
    "\n",
    "\n",
    "* [Microsoft Visual Studio Code](https://code.visualstudio.com/) offers a good combination of simplicity and power.\n",
    "\n",
    "\n",
    "* I really like [Neovim](https://neovim.io/). Vim gives you super powers but has a steep learning curve. \n",
    "    - Learning Vim was an intellectual lightning strike for me!\n",
    "\n",
    "\n",
    "* [Emacs](https://www.gnu.org/software/emacs/) is nutso powerful and has a nearly infinite learning curve. Extra credit for the Brave and True!\n",
    "    - See what writer Neal Stephenson has to say about Emacs: https://www.emacswiki.org/emacs/NealStephenson\n",
    "    \n",
    "\n",
    "* Of course, Buddha who always advocated the [Middle Way](https://en.wikipedia.org/wiki/Middle_Way) would use [Doom](https://github.com/hlissner/doom-emacs) if he were alive today!\n",
    "    - Doom is Emacs with a builtin Vim emulator. It's the *Shiz* - is what I think the kids say these days!\n",
    "    - See these YouTube videos if you decide to follow this path: https://www.youtube.com/watch?v=rCMh7srOqvw\n",
    "\n",
    "\n",
    "<br>\n",
    "\n",
    "See here for the [QuantEcon install instructions](https://julia.quantecon.org/getting_started_julia/getting_started.html). Note that these may or may not be up-to-date.\n",
    "\n",
    "<br>"
   ]
  },
  {
   "cell_type": "markdown",
   "metadata": {},
   "source": [
    "### Julia Packages\n",
    "\n",
    "Once Julia is installed we can use the Standard Library, which is the set of functions and data structures that come builtin to Julia. Similar to other programming languages such as Python and R, Julia is an extensible language. This means that we can write code to extend Julia's base capabilities. \n",
    "\n",
    "Julia comes with a builtin package manager called `Pkg`. We can use it to install any Julia package. For example, to add the `stats` package, we can do the following: "
   ]
  },
  {
   "cell_type": "code",
   "execution_count": 1,
   "metadata": {},
   "outputs": [
    {
     "name": "stdout",
     "output_type": "stream",
     "text": [
      "\u001b[32m\u001b[1m  Updating\u001b[22m\u001b[39m registry at `~/.julia/registries/General`\n",
      "\u001b[32m\u001b[1m  Updating\u001b[22m\u001b[39m git-repo `https://github.com/JuliaRegistries/General.git`\n",
      "\u001b[2K\u001b[?25h[1mFetching:\u001b[22m\u001b[39m [========================================>]  100.0 %.0 %========>                                ]  18.3 %\u001b[36m\u001b[1mFetching:\u001b[22m\u001b[39m [==========>                              ]  24.8 %>                      ]  42.9 % [=========================>               ]  61.2 %>        ]  78.5 %=======================================> ]  96.8 %\u001b[32m\u001b[1m Resolving\u001b[22m\u001b[39m package versions...\n",
      "\u001b[32m\u001b[1m Installed\u001b[22m\u001b[39m PDMats ─ v0.9.11\n",
      "\u001b[32m\u001b[1m  Updating\u001b[22m\u001b[39m `~/.julia/environments/v1.3/Project.toml`\n",
      "\u001b[90m [no changes]\u001b[39m\n",
      "\u001b[32m\u001b[1m  Updating\u001b[22m\u001b[39m `~/.julia/environments/v1.3/Manifest.toml`\n",
      " \u001b[90m [90014a1f]\u001b[39m\u001b[93m ↑ PDMats v0.9.10 ⇒ v0.9.11\u001b[39m\n"
     ]
    }
   ],
   "source": [
    "using Pkg\n",
    "Pkg.add(\"Distributions\")"
   ]
  },
  {
   "cell_type": "markdown",
   "metadata": {},
   "source": [
    "To start this package at the REPL, we can write:"
   ]
  },
  {
   "cell_type": "code",
   "execution_count": 2,
   "metadata": {},
   "outputs": [
    {
     "name": "stderr",
     "output_type": "stream",
     "text": [
      "┌ Info: Precompiling Distributions [31c24e10-a181-5473-b8eb-7969acd0382f]\n",
      "└ @ Base loading.jl:1273\n"
     ]
    }
   ],
   "source": [
    "using Distributions"
   ]
  },
  {
   "cell_type": "markdown",
   "metadata": {},
   "source": [
    "Packages can be updated with the command: `Pkg.update()`"
   ]
  },
  {
   "cell_type": "code",
   "execution_count": 3,
   "metadata": {},
   "outputs": [
    {
     "name": "stdout",
     "output_type": "stream",
     "text": [
      "\u001b[32m\u001b[1m  Updating\u001b[22m\u001b[39m registry at `~/.julia/registries/General`\n",
      "\u001b[32m\u001b[1m  Updating\u001b[22m\u001b[39m git-repo `https://github.com/JuliaRegistries/General.git`\n",
      "\u001b[?25l\u001b[2K\u001b[?25h\u001b[32m\u001b[1m Resolving\u001b[22m\u001b[39m package versions...\n",
      "\u001b[32m\u001b[1m  Updating\u001b[22m\u001b[39m `~/.julia/environments/v1.3/Project.toml`\n",
      "\u001b[90m [no changes]\u001b[39m\n",
      "\u001b[32m\u001b[1m  Updating\u001b[22m\u001b[39m `~/.julia/environments/v1.3/Manifest.toml`\n",
      "\u001b[90m [no changes]\u001b[39m\n"
     ]
    }
   ],
   "source": [
    "Pkg.update()"
   ]
  },
  {
   "cell_type": "markdown",
   "metadata": {},
   "source": [
    "### Understanding the REPL\n",
    "\n",
    "REPL stands for Read-Evaluate-Print-Loop. When we start up Julia we are presented with the REPL. This is the most direct and powerful way to interact with Julia. \n",
    "\n",
    "To use the REPL, we type commands directly in and press enter to immediately execute the code. Here is an example:"
   ]
  },
  {
   "cell_type": "code",
   "execution_count": 4,
   "metadata": {},
   "outputs": [
    {
     "data": {
      "text/plain": [
       "1"
      ]
     },
     "execution_count": 4,
     "metadata": {},
     "output_type": "execute_result"
    }
   ],
   "source": [
    "x = 1"
   ]
  },
  {
   "cell_type": "markdown",
   "metadata": {},
   "source": [
    "What we're doing here is assigning the value `0` to the variable `x`. \n",
    "\n",
    "We can access the builtin help as follows:"
   ]
  },
  {
   "cell_type": "code",
   "execution_count": 5,
   "metadata": {},
   "outputs": [
    {
     "name": "stdout",
     "output_type": "stream",
     "text": [
      "search: ⊻ ⊋ ⊊ ⊉ ⊈ ⊇ ⊆ ≥ ≤ ≢ ≡ ≠ ≉ ≈ ∪ ∩ ∛ √ ∘ ∌ ∋ ∉ ∈ ℯ π ÷ ~ | ^ \\ > < : / - +\n",
      "\n"
     ]
    },
    {
     "data": {
      "text/latex": [
       "\\textbf{Welcome to Julia 1.3.0.} The full manual is available at\n",
       "\n",
       "\\begin{verbatim}\n",
       "https://docs.julialang.org/\n",
       "\\end{verbatim}\n",
       "as well as many great tutorials and learning resources:\n",
       "\n",
       "\\begin{verbatim}\n",
       "https://julialang.org/learning/\n",
       "\\end{verbatim}\n",
       "For help on a specific function or macro, type \\texttt{?} followed by its name, e.g. \\texttt{?cos}, or \\texttt{?@time}, and press enter. Type \\texttt{;} to enter shell mode, \\texttt{]} to enter package mode.\n",
       "\n"
      ],
      "text/markdown": [
       "**Welcome to Julia 1.3.0.** The full manual is available at\n",
       "\n",
       "```\n",
       "https://docs.julialang.org/\n",
       "```\n",
       "\n",
       "as well as many great tutorials and learning resources:\n",
       "\n",
       "```\n",
       "https://julialang.org/learning/\n",
       "```\n",
       "\n",
       "For help on a specific function or macro, type `?` followed by its name, e.g. `?cos`, or `?@time`, and press enter. Type `;` to enter shell mode, `]` to enter package mode.\n"
      ],
      "text/plain": [
       "  \u001b[1mWelcome to Julia 1.3.0.\u001b[22m The full manual is available at\n",
       "\n",
       "  \u001b[39mhttps\u001b[0m\u001b[38;5;197m:\u001b[0m\u001b[38;5;197m//\u001b[0m\u001b[39mdocs\u001b[0m\u001b[38;5;197m.\u001b[0m\u001b[39mjulialang\u001b[0m\u001b[38;5;197m.\u001b[0m\u001b[39morg\u001b[0m\u001b[38;5;197m/\u001b[0m\u001b[39m\u001b[0m\n",
       "\n",
       "\n",
       "  as well as many great tutorials and learning resources:\n",
       "\n",
       "  \u001b[39mhttps\u001b[0m\u001b[38;5;197m:\u001b[0m\u001b[38;5;197m//\u001b[0m\u001b[39mjulialang\u001b[0m\u001b[38;5;197m.\u001b[0m\u001b[39morg\u001b[0m\u001b[38;5;197m/\u001b[0m\u001b[39mlearning\u001b[0m\u001b[38;5;197m/\u001b[0m\u001b[39m\u001b[0m\n",
       "\n",
       "\n",
       "  For help on a specific function or macro, type \u001b[36m?\u001b[39m followed by its name, e.g.\n",
       "  \u001b[36m?cos\u001b[39m, or \u001b[36m?@time\u001b[39m, and press enter. Type \u001b[36m;\u001b[39m to enter shell mode, \u001b[36m]\u001b[39m to enter\n",
       "  package mode."
      ]
     },
     "execution_count": 5,
     "metadata": {},
     "output_type": "execute_result"
    }
   ],
   "source": [
    "?"
   ]
  },
  {
   "cell_type": "code",
   "execution_count": 7,
   "metadata": {},
   "outputs": [
    {
     "name": "stdout",
     "output_type": "stream",
     "text": [
      "search: \u001b[0m\u001b[1ms\u001b[22m\u001b[0m\u001b[1mu\u001b[22m\u001b[0m\u001b[1mm\u001b[22m \u001b[0m\u001b[1ms\u001b[22m\u001b[0m\u001b[1mu\u001b[22m\u001b[0m\u001b[1mm\u001b[22m! \u001b[0m\u001b[1ms\u001b[22m\u001b[0m\u001b[1mu\u001b[22m\u001b[0m\u001b[1mm\u001b[22mmary cum\u001b[0m\u001b[1ms\u001b[22m\u001b[0m\u001b[1mu\u001b[22m\u001b[0m\u001b[1mm\u001b[22m cum\u001b[0m\u001b[1ms\u001b[22m\u001b[0m\u001b[1mu\u001b[22m\u001b[0m\u001b[1mm\u001b[22m! i\u001b[0m\u001b[1ms\u001b[22mn\u001b[0m\u001b[1mu\u001b[22m\u001b[0m\u001b[1mm\u001b[22meric Method\u001b[0m\u001b[1mS\u001b[22m\u001b[0m\u001b[1mu\u001b[22m\u001b[0m\u001b[1mm\u001b[22mmary Edgeworth\u001b[0m\u001b[1mS\u001b[22m\u001b[0m\u001b[1mu\u001b[22m\u001b[0m\u001b[1mm\u001b[22m\n",
      "\n"
     ]
    },
    {
     "data": {
      "text/latex": [
       "\\begin{verbatim}\n",
       "sum(f, itr)\n",
       "\\end{verbatim}\n",
       "Sum the results of calling function \\texttt{f} on each element of \\texttt{itr}.\n",
       "\n",
       "The return type is \\texttt{Int} for signed integers of less than system word size, and \\texttt{UInt} for unsigned integers of less than system word size.  For all other arguments, a common return type is found to which all arguments are promoted.\n",
       "\n",
       "\\section{Examples}\n",
       "\\begin{verbatim}\n",
       "julia> sum(abs2, [2; 3; 4])\n",
       "29\n",
       "\\end{verbatim}\n",
       "Note the important difference between \\texttt{sum(A)} and \\texttt{reduce(+, A)} for arrays with small integer eltype:\n",
       "\n",
       "\\begin{verbatim}\n",
       "julia> sum(Int8[100, 28])\n",
       "128\n",
       "\n",
       "julia> reduce(+, Int8[100, 28])\n",
       "-128\n",
       "\\end{verbatim}\n",
       "In the former case, the integers are widened to system word size and therefore the result is 128. In the latter case, no such widening happens and integer overflow results in -128.\n",
       "\n",
       "\\rule{\\textwidth}{1pt}\n",
       "\\begin{verbatim}\n",
       "sum(itr)\n",
       "\\end{verbatim}\n",
       "Returns the sum of all elements in a collection.\n",
       "\n",
       "The return type is \\texttt{Int} for signed integers of less than system word size, and \\texttt{UInt} for unsigned integers of less than system word size.  For all other arguments, a common return type is found to which all arguments are promoted.\n",
       "\n",
       "\\section{Examples}\n",
       "\\begin{verbatim}\n",
       "julia> sum(1:20)\n",
       "210\n",
       "\\end{verbatim}\n",
       "\\rule{\\textwidth}{1pt}\n",
       "\\begin{verbatim}\n",
       "sum(A::AbstractArray; dims)\n",
       "\\end{verbatim}\n",
       "Sum elements of an array over the given dimensions.\n",
       "\n",
       "\\section{Examples}\n",
       "\\begin{verbatim}\n",
       "julia> A = [1 2; 3 4]\n",
       "2×2 Array{Int64,2}:\n",
       " 1  2\n",
       " 3  4\n",
       "\n",
       "julia> sum(A, dims=1)\n",
       "1×2 Array{Int64,2}:\n",
       " 4  6\n",
       "\n",
       "julia> sum(A, dims=2)\n",
       "2×1 Array{Int64,2}:\n",
       " 3\n",
       " 7\n",
       "\\end{verbatim}\n"
      ],
      "text/markdown": [
       "```\n",
       "sum(f, itr)\n",
       "```\n",
       "\n",
       "Sum the results of calling function `f` on each element of `itr`.\n",
       "\n",
       "The return type is `Int` for signed integers of less than system word size, and `UInt` for unsigned integers of less than system word size.  For all other arguments, a common return type is found to which all arguments are promoted.\n",
       "\n",
       "# Examples\n",
       "\n",
       "```jldoctest\n",
       "julia> sum(abs2, [2; 3; 4])\n",
       "29\n",
       "```\n",
       "\n",
       "Note the important difference between `sum(A)` and `reduce(+, A)` for arrays with small integer eltype:\n",
       "\n",
       "```jldoctest\n",
       "julia> sum(Int8[100, 28])\n",
       "128\n",
       "\n",
       "julia> reduce(+, Int8[100, 28])\n",
       "-128\n",
       "```\n",
       "\n",
       "In the former case, the integers are widened to system word size and therefore the result is 128. In the latter case, no such widening happens and integer overflow results in -128.\n",
       "\n",
       "---\n",
       "\n",
       "```\n",
       "sum(itr)\n",
       "```\n",
       "\n",
       "Returns the sum of all elements in a collection.\n",
       "\n",
       "The return type is `Int` for signed integers of less than system word size, and `UInt` for unsigned integers of less than system word size.  For all other arguments, a common return type is found to which all arguments are promoted.\n",
       "\n",
       "# Examples\n",
       "\n",
       "```jldoctest\n",
       "julia> sum(1:20)\n",
       "210\n",
       "```\n",
       "\n",
       "---\n",
       "\n",
       "```\n",
       "sum(A::AbstractArray; dims)\n",
       "```\n",
       "\n",
       "Sum elements of an array over the given dimensions.\n",
       "\n",
       "# Examples\n",
       "\n",
       "```jldoctest\n",
       "julia> A = [1 2; 3 4]\n",
       "2×2 Array{Int64,2}:\n",
       " 1  2\n",
       " 3  4\n",
       "\n",
       "julia> sum(A, dims=1)\n",
       "1×2 Array{Int64,2}:\n",
       " 4  6\n",
       "\n",
       "julia> sum(A, dims=2)\n",
       "2×1 Array{Int64,2}:\n",
       " 3\n",
       " 7\n",
       "```\n"
      ],
      "text/plain": [
       "  \u001b[38;5;81msum\u001b[0m(\u001b[0m\u001b[39mf\u001b[0m\u001b[39m,\u001b[0m \u001b[0m\u001b[39mitr\u001b[0m\u001b[39m)\u001b[0m\u001b[39m\u001b[0m\n",
       "\n",
       "\n",
       "  Sum the results of calling function \u001b[36mf\u001b[39m on each element of \u001b[36mitr\u001b[39m.\n",
       "\n",
       "  The return type is \u001b[36mInt\u001b[39m for signed integers of less than system word size,\n",
       "  and \u001b[36mUInt\u001b[39m for unsigned integers of less than system word size. For all other\n",
       "  arguments, a common return type is found to which all arguments are\n",
       "  promoted.\n",
       "\n",
       "\u001b[1m  Examples\u001b[22m\n",
       "\u001b[1m  ≡≡≡≡≡≡≡≡≡≡\u001b[22m\n",
       "\n",
       "  \u001b[31;1mjulia> \u001b[0m\u001b[38;5;81msum\u001b[0m(\u001b[0m\u001b[39mabs2\u001b[0m\u001b[39m,\u001b[0m \u001b[0m\u001b[39m[\u001b[0m\u001b[38;5;141m2\u001b[0m\u001b[39m;\u001b[0m \u001b[0m\u001b[38;5;141m3\u001b[0m\u001b[39m;\u001b[0m \u001b[0m\u001b[38;5;141m4\u001b[0m\u001b[39m]\u001b[0m\u001b[39m)\u001b[0m\n",
       "  \u001b[0m\u001b[39m\u001b[0m29\n",
       "\n",
       "\n",
       "  Note the important difference between \u001b[36msum(A)\u001b[39m and \u001b[36mreduce(+, A)\u001b[39m for arrays\n",
       "  with small integer eltype:\n",
       "\n",
       "  \u001b[31;1mjulia> \u001b[0m\u001b[38;5;81msum\u001b[0m(\u001b[0m\u001b[39mInt8\u001b[0m\u001b[39m[\u001b[0m\u001b[38;5;141m100\u001b[0m\u001b[39m,\u001b[0m \u001b[0m\u001b[38;5;141m28\u001b[0m\u001b[39m]\u001b[0m\u001b[39m)\u001b[0m\n",
       "  \u001b[0m\u001b[39m\u001b[0m128\n",
       "  \n",
       "  \u001b[31;1mjulia> \u001b[0m\u001b[38;5;81mreduce\u001b[0m(\u001b[0m\u001b[38;5;197m+\u001b[0m\u001b[39m,\u001b[0m \u001b[0m\u001b[39mInt8\u001b[0m\u001b[39m[\u001b[0m\u001b[38;5;141m100\u001b[0m\u001b[39m,\u001b[0m \u001b[0m\u001b[38;5;141m28\u001b[0m\u001b[39m]\u001b[0m\u001b[39m)\u001b[0m\n",
       "  \u001b[0m\u001b[39m\u001b[0m-128\n",
       "\n",
       "\n",
       "  In the former case, the integers are widened to system word size and\n",
       "  therefore the result is 128. In the latter case, no such widening happens\n",
       "  and integer overflow results in -128.\n",
       "\n",
       "  ────────────────────────────────────────────────────────────────────────────\n",
       "\n",
       "  \u001b[38;5;81msum\u001b[0m(\u001b[0m\u001b[39mitr\u001b[0m\u001b[39m)\u001b[0m\u001b[39m\u001b[0m\n",
       "\n",
       "\n",
       "  Returns the sum of all elements in a collection.\n",
       "\n",
       "  The return type is \u001b[36mInt\u001b[39m for signed integers of less than system word size,\n",
       "  and \u001b[36mUInt\u001b[39m for unsigned integers of less than system word size. For all other\n",
       "  arguments, a common return type is found to which all arguments are\n",
       "  promoted.\n",
       "\n",
       "\u001b[1m  Examples\u001b[22m\n",
       "\u001b[1m  ≡≡≡≡≡≡≡≡≡≡\u001b[22m\n",
       "\n",
       "  \u001b[31;1mjulia> \u001b[0m\u001b[38;5;81msum\u001b[0m(\u001b[0m\u001b[38;5;141m1\u001b[0m\u001b[38;5;197m:\u001b[0m\u001b[38;5;141m20\u001b[0m\u001b[39m)\u001b[0m\n",
       "  \u001b[0m\u001b[39m\u001b[0m210\n",
       "\n",
       "\n",
       "  ────────────────────────────────────────────────────────────────────────────\n",
       "\n",
       "  \u001b[38;5;81msum\u001b[0m(\u001b[0m\u001b[39mA\u001b[0m\u001b[38;5;81m::\u001b[0m\u001b[38;5;81mAbstractArray\u001b[0m\u001b[39m;\u001b[0m \u001b[0m\u001b[39mdims\u001b[0m\u001b[39m)\u001b[0m\u001b[39m\u001b[0m\n",
       "\n",
       "\n",
       "  Sum elements of an array over the given dimensions.\n",
       "\n",
       "\u001b[1m  Examples\u001b[22m\n",
       "\u001b[1m  ≡≡≡≡≡≡≡≡≡≡\u001b[22m\n",
       "\n",
       "  \u001b[31;1mjulia> \u001b[0m\u001b[39mA\u001b[0m \u001b[0m\u001b[38;5;197m=\u001b[0m \u001b[0m\u001b[39m[\u001b[0m\u001b[38;5;141m1\u001b[0m \u001b[0m\u001b[38;5;141m2\u001b[0m\u001b[39m;\u001b[0m \u001b[0m\u001b[38;5;141m3\u001b[0m \u001b[0m\u001b[38;5;141m4\u001b[0m\u001b[39m]\u001b[0m\n",
       "  \u001b[0m\u001b[39m\u001b[0m2×2 Array{Int64,2}:\n",
       "   1  2\n",
       "   3  4\n",
       "  \n",
       "  \u001b[31;1mjulia> \u001b[0m\u001b[38;5;81msum\u001b[0m(\u001b[0m\u001b[39mA\u001b[0m\u001b[39m,\u001b[0m \u001b[0m\u001b[39mdims\u001b[0m\u001b[38;5;197m=\u001b[0m\u001b[38;5;141m1\u001b[0m\u001b[39m)\u001b[0m\n",
       "  \u001b[0m\u001b[39m\u001b[0m1×2 Array{Int64,2}:\n",
       "   4  6\n",
       "  \n",
       "  \u001b[31;1mjulia> \u001b[0m\u001b[38;5;81msum\u001b[0m(\u001b[0m\u001b[39mA\u001b[0m\u001b[39m,\u001b[0m \u001b[0m\u001b[39mdims\u001b[0m\u001b[38;5;197m=\u001b[0m\u001b[38;5;141m2\u001b[0m\u001b[39m)\u001b[0m\n",
       "  \u001b[0m\u001b[39m\u001b[0m2×1 Array{Int64,2}:\n",
       "   3\n",
       "   7\n"
      ]
     },
     "execution_count": 7,
     "metadata": {},
     "output_type": "execute_result"
    }
   ],
   "source": [
    "?sum"
   ]
  },
  {
   "cell_type": "markdown",
   "metadata": {},
   "source": [
    "### Variables and Operators\n",
    "\n",
    "In this section we will cover Julia's main syntax. "
   ]
  },
  {
   "cell_type": "markdown",
   "metadata": {},
   "source": [
    "### Vectors"
   ]
  },
  {
   "cell_type": "markdown",
   "metadata": {},
   "source": [
    "### Multidimensional Arrays"
   ]
  },
  {
   "cell_type": "markdown",
   "metadata": {},
   "source": [
    "### Functions"
   ]
  },
  {
   "cell_type": "markdown",
   "metadata": {},
   "source": [
    "### Control Flow"
   ]
  },
  {
   "cell_type": "markdown",
   "metadata": {},
   "source": [
    "### Working with Data"
   ]
  },
  {
   "cell_type": "markdown",
   "metadata": {},
   "source": [
    "### Working with Dates"
   ]
  },
  {
   "cell_type": "markdown",
   "metadata": {},
   "source": [
    "### Data Frames"
   ]
  },
  {
   "cell_type": "markdown",
   "metadata": {},
   "source": [
    "### Plotting with Julia"
   ]
  },
  {
   "cell_type": "markdown",
   "metadata": {},
   "source": [
    "## Advanced Features"
   ]
  },
  {
   "cell_type": "markdown",
   "metadata": {},
   "source": [
    "### Julia's Type System"
   ]
  },
  {
   "cell_type": "markdown",
   "metadata": {},
   "source": [
    "### Multiple Dispatch"
   ]
  },
  {
   "cell_type": "markdown",
   "metadata": {},
   "source": [
    "### Vectorization"
   ]
  },
  {
   "cell_type": "code",
   "execution_count": null,
   "metadata": {},
   "outputs": [],
   "source": []
  },
  {
   "cell_type": "markdown",
   "metadata": {},
   "source": [
    "## References"
   ]
  },
  {
   "cell_type": "code",
   "execution_count": null,
   "metadata": {},
   "outputs": [],
   "source": []
  }
 ],
 "metadata": {
  "kernelspec": {
   "display_name": "Julia 1.3.0",
   "language": "julia",
   "name": "julia-1.3"
  },
  "language_info": {
   "file_extension": ".jl",
   "mimetype": "application/julia",
   "name": "julia",
   "version": "1.3.0"
  }
 },
 "nbformat": 4,
 "nbformat_minor": 4
}
